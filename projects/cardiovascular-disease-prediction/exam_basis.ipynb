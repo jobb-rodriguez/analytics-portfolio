{
 "cells": [
  {
   "cell_type": "markdown",
   "id": "50e784d4",
   "metadata": {},
   "source": [
    "# Final Examination\n",
    "\n",
    "## Requirements\n",
    "1. Perform `feature scaling`.\n",
    "2. Train an `MLPClassifier` using `3` different configurations (activation functions, hidden layers, alphas, max_iter, tol, etc).\n",
    "3. Report the best average `5-fold cross validation` you can possibly achieve, both `test and train accuracy`.\n",
    "4. Create a new column in the dataset called `BMI` where `BMI = weight / height**2`.\n",
    " - Plus 10 pts. if you use `pandas`\n",
    " - Check whether the new column can improve the performance of the model.\n",
    "5. Use `sklearn`'s `LogisticRegression` on the same dataset and compare its performance to `MLPClassifier`.\n",
    "\n",
    "## Report Requirements\n",
    "1. MLPClassifier with three different configurations\n",
    " - Configuration 1: Default\n",
    " - Configuration 2: hidden_layer_sizes=(75,)\n",
    " - Configuration 3: idden_layer_sizes=(75,), max_iter=300, tol=0.00001\n",
    "2. Best 5-fold cross validation, both test and train accuracy\n",
    "> Run the 5-fold cv on the three configurations\n",
    "\n",
    "3. Best 5-fold cross validation, both test and train accuracy, with BMI included.\n",
    "> Run the 5-fold cv on the three configurations\n",
    "\n",
    "4. Compare performance of `LogisticRegression` and `MLPClassifier`.\n",
    " - Select the best configuration for MLPClassifier without BMI and without BMI\n",
    " - Compare the default Logistic Regression without BMI and with BMI"
   ]
  },
  {
   "cell_type": "code",
   "execution_count": 1,
   "id": "7cbfa7f6",
   "metadata": {},
   "outputs": [],
   "source": [
    "# Import libraries\n",
    "import pandas as pd\n",
    "import numpy as np\n",
    "from sklearn.preprocessing import StandardScaler\n",
    "from sklearn.model_selection import cross_validate\n",
    "from sklearn.neural_network import MLPClassifier\n",
    "from sklearn.linear_model import LogisticRegression"
   ]
  },
  {
   "cell_type": "code",
   "execution_count": 2,
   "id": "44dd8595",
   "metadata": {},
   "outputs": [],
   "source": [
    "# Read data\n",
    "raw_data = pd.read_csv(\"cardio_train.csv\")"
   ]
  },
  {
   "cell_type": "markdown",
   "id": "91c24d6e",
   "metadata": {},
   "source": [
    "### Data without BMI"
   ]
  },
  {
   "cell_type": "code",
   "execution_count": 3,
   "id": "90fdb87a",
   "metadata": {},
   "outputs": [],
   "source": [
    "# Without BMI\n",
    "# Feature Scaling\n",
    "scaler = StandardScaler().fit(raw_data)\n",
    "# Apply the scaler\n",
    "scaled_data = scaler.transform(raw_data)"
   ]
  },
  {
   "cell_type": "code",
   "execution_count": 4,
   "id": "ab8728bd",
   "metadata": {},
   "outputs": [],
   "source": [
    "scaled_data = pd.DataFrame(scaled_data, columns=raw_data.columns)"
   ]
  },
  {
   "cell_type": "code",
   "execution_count": 5,
   "id": "17d91f18",
   "metadata": {},
   "outputs": [],
   "source": [
    "# We do not scale the target variable\n",
    "y = raw_data[\"cardio\"]\n",
    "scaled_data.drop(\"cardio\", axis=1, inplace=True)\n",
    "scaled_data.drop(\"id\", axis=1, inplace=True)"
   ]
  },
  {
   "cell_type": "code",
   "execution_count": 7,
   "id": "c12d40dc",
   "metadata": {},
   "outputs": [
    {
     "name": "stdout",
     "output_type": "stream",
     "text": [
      "{'fit_time': array([46.95719409, 34.95439553, 38.66322875, 27.49606705, 37.04150271]), 'score_time': array([0.01735759, 0.01811171, 0.01982117, 0.01856756, 0.01464868]), 'test_accuracy': array([0.73064286, 0.74064286, 0.73442857, 0.73342857, 0.73035714]), 'train_accuracy': array([0.74055357, 0.73730357, 0.73998214, 0.73789286, 0.74064286])}\n",
      "Train Score:  0.7392749999999999\n",
      "Test Score:  0.7339\n"
     ]
    }
   ],
   "source": [
    "# First Configuration: Default\n",
    "ann_clf = MLPClassifier()\n",
    "# Fit the model to the training data without BMI\n",
    "ann_clf.fit(scaled_data, y)\n",
    "cv_results1 = cross_validate(ann_clf, scaled_data, y, cv=5, scoring=[\"accuracy\"], return_train_score=True)\n",
    "mean_train_cv_results1 = np.mean(cv_results1[\"train_accuracy\"])\n",
    "mean_test_cv_results1 = np.mean(cv_results1[\"test_accuracy\"])\n",
    "print(cv_results1)\n",
    "print(\"Train Score: \", mean_train_cv_results1)\n",
    "print(\"Test Score: \", mean_test_cv_results1)"
   ]
  },
  {
   "cell_type": "code",
   "execution_count": 8,
   "id": "9f8ee09d",
   "metadata": {},
   "outputs": [
    {
     "name": "stdout",
     "output_type": "stream",
     "text": [
      "{'fit_time': array([34.74127316, 25.19722247, 26.99448848, 32.62309599, 29.49174833]), 'score_time': array([0.01200843, 0.01116323, 0.01287651, 0.01494741, 0.01443458]), 'test_accuracy': array([0.7305    , 0.73971429, 0.73371429, 0.73464286, 0.7315    ]), 'train_accuracy': array([0.73960714, 0.73667857, 0.73907143, 0.73755357, 0.73973214])}\n",
      "Train Score:  0.7385285714285714\n",
      "Test Score:  0.7340142857142857\n"
     ]
    }
   ],
   "source": [
    "# Second Configuration: set hidden_layer_sizes to (75,)\n",
    "ann_clf = MLPClassifier(hidden_layer_sizes=(75,))\n",
    "# Fit the model to the training data without BMI\n",
    "ann_clf.fit(scaled_data, y)\n",
    "cv_results2 = cross_validate(ann_clf, scaled_data, y, cv=5, scoring=[\"accuracy\"], return_train_score=True)\n",
    "mean_train_cv_results2 = np.mean(cv_results2[\"train_accuracy\"])\n",
    "mean_test_cv_results2 = np.mean(cv_results2[\"test_accuracy\"])\n",
    "print(cv_results2)\n",
    "print(\"Train Score: \", mean_train_cv_results2)\n",
    "print(\"Test Score: \", mean_test_cv_results2)"
   ]
  },
  {
   "cell_type": "code",
   "execution_count": 9,
   "id": "287ede5c",
   "metadata": {},
   "outputs": [
    {
     "name": "stdout",
     "output_type": "stream",
     "text": [
      "{'fit_time': array([44.04889846, 36.90773344, 39.6021657 , 40.190202  , 47.02327275]), 'score_time': array([0.01876616, 0.01534534, 0.01447368, 0.01194477, 0.01085496]), 'test_accuracy': array([0.7325    , 0.7405    , 0.73328571, 0.73571429, 0.72964286]), 'train_accuracy': array([0.73983929, 0.73680357, 0.73844643, 0.73907143, 0.74039286])}\n",
      "Train Score:  0.7389107142857143\n",
      "Test Score:  0.7343285714285714\n"
     ]
    }
   ],
   "source": [
    "# Third Configuration: set hidden_layer_sizes to (75,), max_iter to 300, and tol to 0.00001\n",
    "ann_clf = MLPClassifier(hidden_layer_sizes=(75,), max_iter=300, tol=0.00001)\n",
    "ann_clf.fit(scaled_data, y)\n",
    "cv_results3 = cross_validate(ann_clf, scaled_data, y, cv=5, scoring=[\"accuracy\"], return_train_score=True)\n",
    "mean_train_cv_results3 = np.mean(cv_results3[\"train_accuracy\"])\n",
    "mean_test_cv_results3 = np.mean(cv_results3[\"test_accuracy\"])\n",
    "print(cv_results3)\n",
    "print(\"Train Score: \", mean_train_cv_results3)\n",
    "print(\"Test Score: \", mean_test_cv_results3)"
   ]
  },
  {
   "cell_type": "code",
   "execution_count": 10,
   "id": "c1da7bd3",
   "metadata": {},
   "outputs": [
    {
     "name": "stdout",
     "output_type": "stream",
     "text": [
      "Best Mean Train Result:  0.7392749999999999\n",
      "Best Mean Test Result:  0.7343285714285714\n"
     ]
    }
   ],
   "source": [
    "best_mean_train_result = np.max([mean_train_cv_results1, mean_train_cv_results2, mean_train_cv_results3])\n",
    "best_mean_test_result = np.max([mean_test_cv_results1, mean_test_cv_results2, mean_test_cv_results3])\n",
    "print(\"Best Mean Train Result: \", best_mean_train_result)\n",
    "print(\"Best Mean Test Result: \", best_mean_test_result)"
   ]
  },
  {
   "cell_type": "code",
   "execution_count": 19,
   "id": "76e27052",
   "metadata": {},
   "outputs": [
    {
     "name": "stdout",
     "output_type": "stream",
     "text": [
      "{'fit_time': array([0.17087746, 0.10110283, 0.09809613, 0.10033679, 0.08617687]), 'score_time': array([0.0023613 , 0.00170231, 0.00179243, 0.00184441, 0.00174713]), 'test_accuracy': array([0.71421429, 0.7245    , 0.71757143, 0.72857143, 0.717     ]), 'train_accuracy': array([0.721625  , 0.71782143, 0.71860714, 0.72428571, 0.721     ])}\n",
      "Train Score:  0.7206678571428571\n",
      "Test Score:  0.7203714285714286\n"
     ]
    }
   ],
   "source": [
    "# Logistic Regression: Default\n",
    "clf = LogisticRegression()\n",
    "# Fit the model to the training data without BMI\n",
    "clf.fit(scaled_data, y)\n",
    "cv_results = cross_validate(clf, scaled_data, y, cv=5, scoring=[\"accuracy\"], return_train_score=True)\n",
    "mean_train_cv_results = np.mean(cv_results[\"train_accuracy\"])\n",
    "mean_test_cv_results = np.mean(cv_results[\"test_accuracy\"])\n",
    "print(cv_results)\n",
    "print(\"Train Score: \", mean_train_cv_results)\n",
    "print(\"Test Score: \", mean_test_cv_results)"
   ]
  },
  {
   "cell_type": "markdown",
   "id": "fde5c00d",
   "metadata": {},
   "source": [
    "### Data with BMI"
   ]
  },
  {
   "cell_type": "code",
   "execution_count": 12,
   "id": "f00daac6",
   "metadata": {},
   "outputs": [],
   "source": [
    "# With BMI\n",
    "raw_data_with_bmi = raw_data\n",
    "# Drop cardio and id for X\n",
    "X_bmi = raw_data_with_bmi.drop(\"cardio\", axis=1)\n",
    "X_bmi.drop(\"id\", axis=1, inplace=True)\n",
    "# Set the value of y\n",
    "y_bmi = raw_data_with_bmi[\"cardio\"]\n",
    "# Add BMI as a column\n",
    "X_bmi[\"BMI\"] = X_bmi[\"weight\"]/(X_bmi[\"height\"]**2)"
   ]
  },
  {
   "cell_type": "code",
   "execution_count": 13,
   "id": "39b24ae9",
   "metadata": {},
   "outputs": [],
   "source": [
    "# Feature Scaling\n",
    "scaler = StandardScaler().fit(X_bmi)\n",
    "scaled_data = scaler.transform(X_bmi)\n",
    "X_bmi = pd.DataFrame(scaled_data, columns=X_bmi.columns)"
   ]
  },
  {
   "cell_type": "code",
   "execution_count": 14,
   "id": "411e0ebc",
   "metadata": {},
   "outputs": [
    {
     "name": "stdout",
     "output_type": "stream",
     "text": [
      "{'fit_time': array([25.80803013, 40.1825161 , 37.3307538 , 17.47642708, 25.11597228]), 'score_time': array([0.01566005, 0.01386118, 0.0144608 , 0.01312518, 0.01405883]), 'test_accuracy': array([0.72942857, 0.73928571, 0.73271429, 0.73485714, 0.73178571]), 'train_accuracy': array([0.73983929, 0.73757143, 0.73967857, 0.73780357, 0.73935714])}\n",
      "Train Score:  0.73885\n",
      "Test Score:  0.7336142857142857\n"
     ]
    }
   ],
   "source": [
    "# First Configuration: Default\n",
    "ann_clf = MLPClassifier()\n",
    "# Fit the model to the training data without BMI\n",
    "ann_clf.fit(X_bmi, y_bmi)\n",
    "cv_results1 = cross_validate(ann_clf, X_bmi, y_bmi, cv=5, scoring=[\"accuracy\"], return_train_score=True)\n",
    "mean_train_cv_results1 = np.mean(cv_results1[\"train_accuracy\"])\n",
    "mean_test_cv_results1 = np.mean(cv_results1[\"test_accuracy\"])\n",
    "print(cv_results1)\n",
    "print(\"Train Score: \", mean_train_cv_results1)\n",
    "print(\"Test Score: \", mean_test_cv_results1)"
   ]
  },
  {
   "cell_type": "code",
   "execution_count": 15,
   "id": "8813fb2e",
   "metadata": {},
   "outputs": [
    {
     "name": "stdout",
     "output_type": "stream",
     "text": [
      "{'fit_time': array([26.55698013, 21.74703884, 24.14023662, 24.99681282, 34.40209651]), 'score_time': array([0.0131309 , 0.01392388, 0.01206136, 0.01492596, 0.01219082]), 'test_accuracy': array([0.73028571, 0.741     , 0.73271429, 0.7355    , 0.7315    ]), 'train_accuracy': array([0.73978571, 0.73628571, 0.73894643, 0.73873214, 0.73969643])}\n",
      "Train Score:  0.7386892857142857\n",
      "Test Score:  0.7342000000000001\n"
     ]
    }
   ],
   "source": [
    "# Second Configuration: set hidden_layer_sizes to (75,)\n",
    "ann_clf = MLPClassifier(hidden_layer_sizes=(75,))\n",
    "# Fit the model to the training data without BMI\n",
    "ann_clf.fit(X_bmi, y_bmi)\n",
    "cv_results2 = cross_validate(ann_clf, X_bmi, y_bmi, cv=5, scoring=[\"accuracy\"], return_train_score=True)\n",
    "mean_train_cv_results2 = np.mean(cv_results2[\"train_accuracy\"])\n",
    "mean_test_cv_results2 = np.mean(cv_results2[\"test_accuracy\"])\n",
    "print(cv_results2)\n",
    "print(\"Train Score: \", mean_train_cv_results2)\n",
    "print(\"Test Score: \", mean_test_cv_results2)"
   ]
  },
  {
   "cell_type": "code",
   "execution_count": 16,
   "id": "f9aed4d7",
   "metadata": {},
   "outputs": [
    {
     "name": "stdout",
     "output_type": "stream",
     "text": [
      "{'fit_time': array([31.81063914, 23.27647686, 39.80165553, 38.30144596, 36.36833787]), 'score_time': array([0.01416564, 0.011976  , 0.01411438, 0.0148344 , 0.01300859]), 'test_accuracy': array([0.73071429, 0.73964286, 0.73528571, 0.73535714, 0.73392857]), 'train_accuracy': array([0.73875   , 0.73614286, 0.73873214, 0.73928571, 0.73889286])}\n",
      "Train Score:  0.7383607142857143\n",
      "Test Score:  0.7349857142857142\n"
     ]
    }
   ],
   "source": [
    "# Third Configuration: set hidden_layer_sizes to (75,), max_iter to 300, and tol to 0.00001\n",
    "ann_clf = MLPClassifier(hidden_layer_sizes=(75,), max_iter=300, tol=0.00001)\n",
    "ann_clf.fit(X_bmi, y_bmi)\n",
    "cv_results3 = cross_validate(ann_clf, X_bmi, y_bmi, cv=5, scoring=[\"accuracy\"], return_train_score=True)\n",
    "mean_train_cv_results3 = np.mean(cv_results3[\"train_accuracy\"])\n",
    "mean_test_cv_results3 = np.mean(cv_results3[\"test_accuracy\"])\n",
    "print(cv_results3)\n",
    "print(\"Train Score: \", mean_train_cv_results3)\n",
    "print(\"Test Score: \", mean_test_cv_results3)"
   ]
  },
  {
   "cell_type": "code",
   "execution_count": 17,
   "id": "7ce1f79d",
   "metadata": {},
   "outputs": [
    {
     "name": "stdout",
     "output_type": "stream",
     "text": [
      "Best Mean Train Result:  0.73885\n",
      "Best Mean Test Result:  0.7349857142857142\n"
     ]
    }
   ],
   "source": [
    "best_mean_train_result = np.max([mean_train_cv_results1, mean_train_cv_results2, mean_train_cv_results3])\n",
    "best_mean_test_result = np.max([mean_test_cv_results1, mean_test_cv_results2, mean_test_cv_results3])\n",
    "print(\"Best Mean Train Result: \", best_mean_train_result)\n",
    "print(\"Best Mean Test Result: \", best_mean_test_result)"
   ]
  },
  {
   "cell_type": "code",
   "execution_count": 20,
   "id": "b560cbec",
   "metadata": {},
   "outputs": [
    {
     "name": "stdout",
     "output_type": "stream",
     "text": [
      "{'fit_time': array([0.11189461, 0.09768057, 0.09504366, 0.10140753, 0.08996868]), 'score_time': array([0.00285316, 0.00276542, 0.00290489, 0.00289726, 0.00274301]), 'test_accuracy': array([0.71421429, 0.7245    , 0.71757143, 0.72857143, 0.717     ]), 'train_accuracy': array([0.721625  , 0.71782143, 0.71860714, 0.72428571, 0.721     ])}\n",
      "Train Score:  0.7206678571428571\n",
      "Test Score:  0.7203714285714286\n"
     ]
    }
   ],
   "source": [
    "# Logistic Regression: Default\n",
    "clf = LogisticRegression()\n",
    "# Fit the model to the training data without BMI\n",
    "clf.fit(X_bmi, y_bmi)\n",
    "cv_results = cross_validate(clf, X_bmi, y_bmi, cv=5, scoring=[\"accuracy\"], return_train_score=True)\n",
    "mean_train_cv_results = np.mean(cv_results[\"train_accuracy\"])\n",
    "mean_test_cv_results = np.mean(cv_results[\"test_accuracy\"])\n",
    "print(cv_results)\n",
    "print(\"Train Score: \", mean_train_cv_results)\n",
    "print(\"Test Score: \", mean_test_cv_results)"
   ]
  }
 ],
 "metadata": {
  "kernelspec": {
   "display_name": "Python 3 (ipykernel)",
   "language": "python",
   "name": "python3"
  },
  "language_info": {
   "codemirror_mode": {
    "name": "ipython",
    "version": 3
   },
   "file_extension": ".py",
   "mimetype": "text/x-python",
   "name": "python",
   "nbconvert_exporter": "python",
   "pygments_lexer": "ipython3",
   "version": "3.9.7"
  }
 },
 "nbformat": 4,
 "nbformat_minor": 5
}
